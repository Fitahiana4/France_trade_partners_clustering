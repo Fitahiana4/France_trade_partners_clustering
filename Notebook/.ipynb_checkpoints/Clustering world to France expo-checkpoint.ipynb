{
 "cells": [
  {
   "cell_type": "markdown",
   "id": "e09c2ec6",
   "metadata": {},
   "source": [
    "# I) Import important librairies"
   ]
  },
  {
   "cell_type": "code",
   "execution_count": 1,
   "id": "38705c33",
   "metadata": {},
   "outputs": [],
   "source": [
    "#pip install world_trade_data --upgrade"
   ]
  },
  {
   "cell_type": "code",
   "execution_count": 1,
   "id": "49dd01f6",
   "metadata": {},
   "outputs": [],
   "source": [
    "import pandas as pd\n",
    "import world_trade_data as wits\n",
    "import numpy as np\n",
    "from requests.exceptions import HTTPError\n",
    "import matplotlib.pyplot as plt\n",
    "import seaborn as sns\n",
    "from sklearn.preprocessing import StandardScaler\n",
    "from sklearn.decomposition import PCA\n",
    "from sklearn.cluster import KMeans\n",
    "from sklearn.metrics import silhouette_score, adjusted_rand_score\n",
    "from scipy.spatial.distance import cdist\n",
    "from math import pi"
   ]
  },
  {
   "cell_type": "markdown",
   "id": "eacafaef",
   "metadata": {},
   "source": [
    "# II) Data processing"
   ]
  },
  {
   "cell_type": "markdown",
   "id": "9cfc9e70",
   "metadata": {},
   "source": [
    "I used the WITS (World Integrated Trade Solution) API to get my data. These data cover the period 1988-2020 but the available data for France cover only 1994-2020 for France."
   ]
  },
  {
   "cell_type": "markdown",
   "id": "cc1ab71e",
   "metadata": {},
   "source": [
    "The data provided by the WITS API is classified according to product codes. However, several product codes can designate a single product. Therefore, to avoid repetition, one must consider the type of group and deduce the product codes that are unique for a given group :"
   ]
  },
  {
   "cell_type": "code",
   "execution_count": 2,
   "id": "3b873876",
   "metadata": {
    "scrolled": true
   },
   "outputs": [
    {
     "data": {
      "text/html": [
       "<div>\n",
       "<style scoped>\n",
       "    .dataframe tbody tr th:only-of-type {\n",
       "        vertical-align: middle;\n",
       "    }\n",
       "\n",
       "    .dataframe tbody tr th {\n",
       "        vertical-align: top;\n",
       "    }\n",
       "\n",
       "    .dataframe thead th {\n",
       "        text-align: right;\n",
       "    }\n",
       "</style>\n",
       "<table border=\"1\" class=\"dataframe\">\n",
       "  <thead>\n",
       "    <tr style=\"text-align: right;\">\n",
       "      <th></th>\n",
       "      <th>ispartnerequired</th>\n",
       "      <th>SDMX_partnervalue</th>\n",
       "      <th>isproductrequired</th>\n",
       "      <th>SDMX_productvalue</th>\n",
       "      <th>name</th>\n",
       "      <th>definition</th>\n",
       "      <th>source</th>\n",
       "      <th>topic</th>\n",
       "      <th>productclassification</th>\n",
       "      <th>periodicity</th>\n",
       "      <th>valuation</th>\n",
       "      <th>currency</th>\n",
       "      <th>notes</th>\n",
       "    </tr>\n",
       "    <tr>\n",
       "      <th>indicatorcode</th>\n",
       "      <th></th>\n",
       "      <th></th>\n",
       "      <th></th>\n",
       "      <th></th>\n",
       "      <th></th>\n",
       "      <th></th>\n",
       "      <th></th>\n",
       "      <th></th>\n",
       "      <th></th>\n",
       "      <th></th>\n",
       "      <th></th>\n",
       "      <th></th>\n",
       "      <th></th>\n",
       "    </tr>\n",
       "  </thead>\n",
       "  <tbody>\n",
       "    <tr>\n",
       "      <th>CNTRY-GRWTH</th>\n",
       "      <td>yes</td>\n",
       "      <td></td>\n",
       "      <td>yes</td>\n",
       "      <td></td>\n",
       "      <td>Country Growth (%)</td>\n",
       "      <td>Annual percentage growth rate of the country’s...</td>\n",
       "      <td>WITS - UNSD Comtrade</td>\n",
       "      <td>Trade</td>\n",
       "      <td>Harmonized System 1988/92, SITC Revision 2</td>\n",
       "      <td>Annual</td>\n",
       "      <td>Export - FOB; Import - CIF</td>\n",
       "      <td>None</td>\n",
       "      <td>1) Mirror Exports is considered 2)Growth for a...</td>\n",
       "    </tr>\n",
       "    <tr>\n",
       "      <th>HH-MKT-CNCNTRTN-NDX</th>\n",
       "      <td>no</td>\n",
       "      <td>999</td>\n",
       "      <td>no</td>\n",
       "      <td>999999</td>\n",
       "      <td>HH Market concentration index</td>\n",
       "      <td>Hirschman Herfindahl index  is a measure of th...</td>\n",
       "      <td>WITS - UNSD Comtrade</td>\n",
       "      <td>Trade</td>\n",
       "      <td>Harmonized System 1988/92, SITC Revision 2</td>\n",
       "      <td>Annual</td>\n",
       "      <td>Export - FOB; Import - CIF</td>\n",
       "      <td>None</td>\n",
       "      <td>1) Mirror Exports is considered for export dat...</td>\n",
       "    </tr>\n",
       "    <tr>\n",
       "      <th>MPRT-PRDCT-SHR</th>\n",
       "      <td>yes</td>\n",
       "      <td></td>\n",
       "      <td>yes</td>\n",
       "      <td></td>\n",
       "      <td>Product Share (%)</td>\n",
       "      <td>The share of total merchandise trade (export o...</td>\n",
       "      <td>WITS - UNSD Comtrade</td>\n",
       "      <td>Trade</td>\n",
       "      <td>Harmonized System 1988/92, SITC Revision 2</td>\n",
       "      <td>Annual</td>\n",
       "      <td>None</td>\n",
       "      <td>None</td>\n",
       "      <td></td>\n",
       "    </tr>\n",
       "    <tr>\n",
       "      <th>MPRT-PRTNR-SHR</th>\n",
       "      <td>yes</td>\n",
       "      <td></td>\n",
       "      <td>no</td>\n",
       "      <td>999999</td>\n",
       "      <td>Partner Share (%)</td>\n",
       "      <td>The share of total merchandise trade (export o...</td>\n",
       "      <td>WITS - UNSD Comtrade</td>\n",
       "      <td>Trade</td>\n",
       "      <td>Harmonized System 1988/92, SITC Revision 2</td>\n",
       "      <td>Annual</td>\n",
       "      <td>None</td>\n",
       "      <td>None</td>\n",
       "      <td></td>\n",
       "    </tr>\n",
       "    <tr>\n",
       "      <th>MPRT-SHR-TTL-PRDCT</th>\n",
       "      <td>yes</td>\n",
       "      <td></td>\n",
       "      <td>yes</td>\n",
       "      <td></td>\n",
       "      <td>Share in Total Products (%)</td>\n",
       "      <td>Share in Total Products (%)</td>\n",
       "      <td>WITS - UNSD Comtrade</td>\n",
       "      <td>Trade</td>\n",
       "      <td>Harmonized System 1988/92, SITC Revision 2</td>\n",
       "      <td>Annual</td>\n",
       "      <td>None</td>\n",
       "      <td>None</td>\n",
       "      <td>1)  All traded products at HS 6 digits are con...</td>\n",
       "    </tr>\n",
       "    <tr>\n",
       "      <th>MPRT-TRD-VL</th>\n",
       "      <td>yes</td>\n",
       "      <td></td>\n",
       "      <td>yes</td>\n",
       "      <td></td>\n",
       "      <td>Trade Value (US$ Thousand)</td>\n",
       "      <td>Total Import/Export Value in thousands of US D...</td>\n",
       "      <td>WITS - UNSD Comtrade</td>\n",
       "      <td>Trade</td>\n",
       "      <td>Harmonized System 1988/92, SITC Revision 2</td>\n",
       "      <td>Annual</td>\n",
       "      <td>Export - FOB; Import - CIF</td>\n",
       "      <td>US Dollar - Current value</td>\n",
       "      <td></td>\n",
       "    </tr>\n",
       "    <tr>\n",
       "      <th>NDX-XPRT-MKT-PNRTTN</th>\n",
       "      <td>no</td>\n",
       "      <td>999</td>\n",
       "      <td>no</td>\n",
       "      <td>999999</td>\n",
       "      <td>Index Of Export Market Penetration</td>\n",
       "      <td>It is calculated as the number of countries to...</td>\n",
       "      <td>WITS - UNSD Comtrade</td>\n",
       "      <td>Trade</td>\n",
       "      <td>Harmonized System 1988/92, SITC Revision 2</td>\n",
       "      <td>Annual</td>\n",
       "      <td>Export - FOB; Import - CIF</td>\n",
       "      <td>None</td>\n",
       "      <td>1) Mirror Exports is considered for export dat...</td>\n",
       "    </tr>\n",
       "    <tr>\n",
       "      <th>NMBR-MPRT-HS6-PRDCT</th>\n",
       "      <td>yes</td>\n",
       "      <td></td>\n",
       "      <td>no</td>\n",
       "      <td>999999</td>\n",
       "      <td>No Of traded HS6 digit Products</td>\n",
       "      <td>Total number of products imported by a country...</td>\n",
       "      <td>WITS - UNSD Comtrade</td>\n",
       "      <td>Trade</td>\n",
       "      <td>Harmonized System 1988/92, SITC Revision 2</td>\n",
       "      <td>Annual</td>\n",
       "      <td>None</td>\n",
       "      <td>None</td>\n",
       "      <td>1)  All traded products at HS 6 digits are con...</td>\n",
       "    </tr>\n",
       "    <tr>\n",
       "      <th>NMBR-MPRT-PRTNR</th>\n",
       "      <td>no</td>\n",
       "      <td>999</td>\n",
       "      <td>no</td>\n",
       "      <td>999999</td>\n",
       "      <td>Number of import partners</td>\n",
       "      <td>Number of countries from which a particular co...</td>\n",
       "      <td>WITS - UNSD Comtrade</td>\n",
       "      <td>Trade</td>\n",
       "      <td>Harmonized System 1988/92, SITC Revision 2</td>\n",
       "      <td>Annual</td>\n",
       "      <td>None</td>\n",
       "      <td>None</td>\n",
       "      <td>1) Product 'Total' is used for this computation.</td>\n",
       "    </tr>\n",
       "    <tr>\n",
       "      <th>NMBR-PRDCT-MPRTD</th>\n",
       "      <td>no</td>\n",
       "      <td>999</td>\n",
       "      <td>no</td>\n",
       "      <td>999999</td>\n",
       "      <td>Number of products imported</td>\n",
       "      <td>Total number of products imported by a country...</td>\n",
       "      <td>WITS - UNSD Comtrade</td>\n",
       "      <td>Trade</td>\n",
       "      <td>Harmonized System 1988/92, SITC Revision 2</td>\n",
       "      <td>Annual</td>\n",
       "      <td>None</td>\n",
       "      <td>None</td>\n",
       "      <td>1)  All traded products at HS 6 digits are con...</td>\n",
       "    </tr>\n",
       "    <tr>\n",
       "      <th>NMBR-PRDCT-XPRTD</th>\n",
       "      <td>no</td>\n",
       "      <td>999</td>\n",
       "      <td>no</td>\n",
       "      <td>999999</td>\n",
       "      <td>Number of products exported</td>\n",
       "      <td>Total number of products exported by a country...</td>\n",
       "      <td>WITS - UNSD Comtrade</td>\n",
       "      <td>Trade</td>\n",
       "      <td>Harmonized System 1988/92, SITC Revision 2</td>\n",
       "      <td>Annual</td>\n",
       "      <td>None</td>\n",
       "      <td>None</td>\n",
       "      <td>1)  All traded products at HS 6 digits are con...</td>\n",
       "    </tr>\n",
       "    <tr>\n",
       "      <th>NMBR-XPRT-HS6-PRDCT</th>\n",
       "      <td>yes</td>\n",
       "      <td></td>\n",
       "      <td>no</td>\n",
       "      <td>999999</td>\n",
       "      <td>No Of traded HS6 digit Products</td>\n",
       "      <td>Total number of products exported by a country...</td>\n",
       "      <td>WITS - UNSD Comtrade</td>\n",
       "      <td>Trade</td>\n",
       "      <td>Harmonized System 1988/92, SITC Revision 2</td>\n",
       "      <td>Annual</td>\n",
       "      <td>None</td>\n",
       "      <td>None</td>\n",
       "      <td>1)  All traded products at HS 6 digits are con...</td>\n",
       "    </tr>\n",
       "    <tr>\n",
       "      <th>NMBR-XPRT-PRTNR</th>\n",
       "      <td>no</td>\n",
       "      <td>999</td>\n",
       "      <td>no</td>\n",
       "      <td>999999</td>\n",
       "      <td>Number of export partners</td>\n",
       "      <td>Number of countries to whom a particular count...</td>\n",
       "      <td>WITS - UNSD Comtrade</td>\n",
       "      <td>Trade</td>\n",
       "      <td>Harmonized System 1988/92, SITC Revision 2</td>\n",
       "      <td>Annual</td>\n",
       "      <td>None</td>\n",
       "      <td>None</td>\n",
       "      <td>1) Product 'Total' is used for this computation.</td>\n",
       "    </tr>\n",
       "    <tr>\n",
       "      <th>RCA</th>\n",
       "      <td>yes</td>\n",
       "      <td></td>\n",
       "      <td>yes</td>\n",
       "      <td></td>\n",
       "      <td>Revealed comparative advantage</td>\n",
       "      <td>Measures of revealed comparative advantage (RC...</td>\n",
       "      <td>WITS - UNSD Comtrade</td>\n",
       "      <td>Trade</td>\n",
       "      <td>Harmonized System 1988/92, SITC Revision 2</td>\n",
       "      <td>Annual</td>\n",
       "      <td>Export - FOB; Import - CIF</td>\n",
       "      <td>None</td>\n",
       "      <td>Mirror Exports is considered.  The RCA index o...</td>\n",
       "    </tr>\n",
       "    <tr>\n",
       "      <th>TRD-CMPLMNTRTY-NDX</th>\n",
       "      <td>yes</td>\n",
       "      <td></td>\n",
       "      <td>no</td>\n",
       "      <td>999999</td>\n",
       "      <td>Trade complementarity index</td>\n",
       "      <td>The trade complementarity (TC) index can provi...</td>\n",
       "      <td>WITS - UNSD Comtrade</td>\n",
       "      <td>Trade</td>\n",
       "      <td>Harmonized System 1988/92, SITC Revision 2</td>\n",
       "      <td>Annual</td>\n",
       "      <td>Export - FOB; Import - CIF</td>\n",
       "      <td>None</td>\n",
       "      <td>1) Mirror Exports is considered for export dat...</td>\n",
       "    </tr>\n",
       "    <tr>\n",
       "      <th>WRLD-GRWTH</th>\n",
       "      <td>yes</td>\n",
       "      <td></td>\n",
       "      <td>yes</td>\n",
       "      <td></td>\n",
       "      <td>World Growth (%)</td>\n",
       "      <td>Annual percentage growth rate of the world’s t...</td>\n",
       "      <td>WITS - UNSD Comtrade</td>\n",
       "      <td>Trade</td>\n",
       "      <td>Harmonized System 1988/92, SITC Revision 2</td>\n",
       "      <td>Annual</td>\n",
       "      <td>Export - FOB; Import - CIF</td>\n",
       "      <td>None</td>\n",
       "      <td>1) Mirror Exports is considered 2)Growth for a...</td>\n",
       "    </tr>\n",
       "    <tr>\n",
       "      <th>XPRT-PRDCT-SHR</th>\n",
       "      <td>yes</td>\n",
       "      <td></td>\n",
       "      <td>yes</td>\n",
       "      <td></td>\n",
       "      <td>Product Share (%)</td>\n",
       "      <td>The share of total merchandise trade (export o...</td>\n",
       "      <td>WITS - UNSD Comtrade</td>\n",
       "      <td>Trade</td>\n",
       "      <td>Harmonized System 1988/92, SITC Revision 2</td>\n",
       "      <td>Annual</td>\n",
       "      <td>None</td>\n",
       "      <td>None</td>\n",
       "      <td></td>\n",
       "    </tr>\n",
       "    <tr>\n",
       "      <th>XPRT-PRTNR-SHR</th>\n",
       "      <td>yes</td>\n",
       "      <td></td>\n",
       "      <td>no</td>\n",
       "      <td>999999</td>\n",
       "      <td>Partner Share (%)</td>\n",
       "      <td>The share of total merchandise trade (export o...</td>\n",
       "      <td>WITS - UNSD Comtrade</td>\n",
       "      <td>Trade</td>\n",
       "      <td>Harmonized System 1988/92, SITC Revision 2</td>\n",
       "      <td>Annual</td>\n",
       "      <td>None</td>\n",
       "      <td>None</td>\n",
       "      <td></td>\n",
       "    </tr>\n",
       "    <tr>\n",
       "      <th>XPRT-SHR-TTL-PRDCT</th>\n",
       "      <td>yes</td>\n",
       "      <td></td>\n",
       "      <td>yes</td>\n",
       "      <td></td>\n",
       "      <td>Share in Total Products (%)</td>\n",
       "      <td>Share in Total Products (%)</td>\n",
       "      <td>WITS - UNSD Comtrade</td>\n",
       "      <td>Trade</td>\n",
       "      <td>Harmonized System 1988/92, SITC Revision 2</td>\n",
       "      <td>Annual</td>\n",
       "      <td>None</td>\n",
       "      <td>None</td>\n",
       "      <td>1)  All traded products at HS 6 digits are con...</td>\n",
       "    </tr>\n",
       "    <tr>\n",
       "      <th>XPRT-TRD-VL</th>\n",
       "      <td>yes</td>\n",
       "      <td></td>\n",
       "      <td>yes</td>\n",
       "      <td></td>\n",
       "      <td>Trade Value (US$ Thousand)</td>\n",
       "      <td>Total Import/Export Value in thousands of US D...</td>\n",
       "      <td>WITS - UNSD Comtrade</td>\n",
       "      <td>Trade</td>\n",
       "      <td>Harmonized System 1988/92, SITC Revision 2</td>\n",
       "      <td>Annual</td>\n",
       "      <td>Export - FOB; Import - CIF</td>\n",
       "      <td>US Dollar - Current value</td>\n",
       "      <td></td>\n",
       "    </tr>\n",
       "  </tbody>\n",
       "</table>\n",
       "</div>"
      ],
      "text/plain": [
       "                    ispartnerequired SDMX_partnervalue isproductrequired  \\\n",
       "indicatorcode                                                              \n",
       "CNTRY-GRWTH                      yes                                 yes   \n",
       "HH-MKT-CNCNTRTN-NDX               no               999                no   \n",
       "MPRT-PRDCT-SHR                   yes                                 yes   \n",
       "MPRT-PRTNR-SHR                   yes                                  no   \n",
       "MPRT-SHR-TTL-PRDCT               yes                                 yes   \n",
       "MPRT-TRD-VL                      yes                                 yes   \n",
       "NDX-XPRT-MKT-PNRTTN               no               999                no   \n",
       "NMBR-MPRT-HS6-PRDCT              yes                                  no   \n",
       "NMBR-MPRT-PRTNR                   no               999                no   \n",
       "NMBR-PRDCT-MPRTD                  no               999                no   \n",
       "NMBR-PRDCT-XPRTD                  no               999                no   \n",
       "NMBR-XPRT-HS6-PRDCT              yes                                  no   \n",
       "NMBR-XPRT-PRTNR                   no               999                no   \n",
       "RCA                              yes                                 yes   \n",
       "TRD-CMPLMNTRTY-NDX               yes                                  no   \n",
       "WRLD-GRWTH                       yes                                 yes   \n",
       "XPRT-PRDCT-SHR                   yes                                 yes   \n",
       "XPRT-PRTNR-SHR                   yes                                  no   \n",
       "XPRT-SHR-TTL-PRDCT               yes                                 yes   \n",
       "XPRT-TRD-VL                      yes                                 yes   \n",
       "\n",
       "                    SDMX_productvalue                                name  \\\n",
       "indicatorcode                                                               \n",
       "CNTRY-GRWTH                                            Country Growth (%)   \n",
       "HH-MKT-CNCNTRTN-NDX            999999       HH Market concentration index   \n",
       "MPRT-PRDCT-SHR                                          Product Share (%)   \n",
       "MPRT-PRTNR-SHR                 999999                   Partner Share (%)   \n",
       "MPRT-SHR-TTL-PRDCT                            Share in Total Products (%)   \n",
       "MPRT-TRD-VL                                    Trade Value (US$ Thousand)   \n",
       "NDX-XPRT-MKT-PNRTTN            999999  Index Of Export Market Penetration   \n",
       "NMBR-MPRT-HS6-PRDCT            999999     No Of traded HS6 digit Products   \n",
       "NMBR-MPRT-PRTNR                999999           Number of import partners   \n",
       "NMBR-PRDCT-MPRTD               999999         Number of products imported   \n",
       "NMBR-PRDCT-XPRTD               999999         Number of products exported   \n",
       "NMBR-XPRT-HS6-PRDCT            999999     No Of traded HS6 digit Products   \n",
       "NMBR-XPRT-PRTNR                999999           Number of export partners   \n",
       "RCA                                        Revealed comparative advantage   \n",
       "TRD-CMPLMNTRTY-NDX             999999         Trade complementarity index   \n",
       "WRLD-GRWTH                                               World Growth (%)   \n",
       "XPRT-PRDCT-SHR                                          Product Share (%)   \n",
       "XPRT-PRTNR-SHR                 999999                   Partner Share (%)   \n",
       "XPRT-SHR-TTL-PRDCT                            Share in Total Products (%)   \n",
       "XPRT-TRD-VL                                    Trade Value (US$ Thousand)   \n",
       "\n",
       "                                                            definition  \\\n",
       "indicatorcode                                                            \n",
       "CNTRY-GRWTH          Annual percentage growth rate of the country’s...   \n",
       "HH-MKT-CNCNTRTN-NDX  Hirschman Herfindahl index  is a measure of th...   \n",
       "MPRT-PRDCT-SHR       The share of total merchandise trade (export o...   \n",
       "MPRT-PRTNR-SHR       The share of total merchandise trade (export o...   \n",
       "MPRT-SHR-TTL-PRDCT                         Share in Total Products (%)   \n",
       "MPRT-TRD-VL          Total Import/Export Value in thousands of US D...   \n",
       "NDX-XPRT-MKT-PNRTTN  It is calculated as the number of countries to...   \n",
       "NMBR-MPRT-HS6-PRDCT  Total number of products imported by a country...   \n",
       "NMBR-MPRT-PRTNR      Number of countries from which a particular co...   \n",
       "NMBR-PRDCT-MPRTD     Total number of products imported by a country...   \n",
       "NMBR-PRDCT-XPRTD     Total number of products exported by a country...   \n",
       "NMBR-XPRT-HS6-PRDCT  Total number of products exported by a country...   \n",
       "NMBR-XPRT-PRTNR      Number of countries to whom a particular count...   \n",
       "RCA                  Measures of revealed comparative advantage (RC...   \n",
       "TRD-CMPLMNTRTY-NDX   The trade complementarity (TC) index can provi...   \n",
       "WRLD-GRWTH           Annual percentage growth rate of the world’s t...   \n",
       "XPRT-PRDCT-SHR       The share of total merchandise trade (export o...   \n",
       "XPRT-PRTNR-SHR       The share of total merchandise trade (export o...   \n",
       "XPRT-SHR-TTL-PRDCT                         Share in Total Products (%)   \n",
       "XPRT-TRD-VL          Total Import/Export Value in thousands of US D...   \n",
       "\n",
       "                                   source  topic  \\\n",
       "indicatorcode                                      \n",
       "CNTRY-GRWTH          WITS - UNSD Comtrade  Trade   \n",
       "HH-MKT-CNCNTRTN-NDX  WITS - UNSD Comtrade  Trade   \n",
       "MPRT-PRDCT-SHR       WITS - UNSD Comtrade  Trade   \n",
       "MPRT-PRTNR-SHR       WITS - UNSD Comtrade  Trade   \n",
       "MPRT-SHR-TTL-PRDCT   WITS - UNSD Comtrade  Trade   \n",
       "MPRT-TRD-VL          WITS - UNSD Comtrade  Trade   \n",
       "NDX-XPRT-MKT-PNRTTN  WITS - UNSD Comtrade  Trade   \n",
       "NMBR-MPRT-HS6-PRDCT  WITS - UNSD Comtrade  Trade   \n",
       "NMBR-MPRT-PRTNR      WITS - UNSD Comtrade  Trade   \n",
       "NMBR-PRDCT-MPRTD     WITS - UNSD Comtrade  Trade   \n",
       "NMBR-PRDCT-XPRTD     WITS - UNSD Comtrade  Trade   \n",
       "NMBR-XPRT-HS6-PRDCT  WITS - UNSD Comtrade  Trade   \n",
       "NMBR-XPRT-PRTNR      WITS - UNSD Comtrade  Trade   \n",
       "RCA                  WITS - UNSD Comtrade  Trade   \n",
       "TRD-CMPLMNTRTY-NDX   WITS - UNSD Comtrade  Trade   \n",
       "WRLD-GRWTH           WITS - UNSD Comtrade  Trade   \n",
       "XPRT-PRDCT-SHR       WITS - UNSD Comtrade  Trade   \n",
       "XPRT-PRTNR-SHR       WITS - UNSD Comtrade  Trade   \n",
       "XPRT-SHR-TTL-PRDCT   WITS - UNSD Comtrade  Trade   \n",
       "XPRT-TRD-VL          WITS - UNSD Comtrade  Trade   \n",
       "\n",
       "                                          productclassification periodicity  \\\n",
       "indicatorcode                                                                 \n",
       "CNTRY-GRWTH          Harmonized System 1988/92, SITC Revision 2      Annual   \n",
       "HH-MKT-CNCNTRTN-NDX  Harmonized System 1988/92, SITC Revision 2      Annual   \n",
       "MPRT-PRDCT-SHR       Harmonized System 1988/92, SITC Revision 2      Annual   \n",
       "MPRT-PRTNR-SHR       Harmonized System 1988/92, SITC Revision 2      Annual   \n",
       "MPRT-SHR-TTL-PRDCT   Harmonized System 1988/92, SITC Revision 2      Annual   \n",
       "MPRT-TRD-VL          Harmonized System 1988/92, SITC Revision 2      Annual   \n",
       "NDX-XPRT-MKT-PNRTTN  Harmonized System 1988/92, SITC Revision 2      Annual   \n",
       "NMBR-MPRT-HS6-PRDCT  Harmonized System 1988/92, SITC Revision 2      Annual   \n",
       "NMBR-MPRT-PRTNR      Harmonized System 1988/92, SITC Revision 2      Annual   \n",
       "NMBR-PRDCT-MPRTD     Harmonized System 1988/92, SITC Revision 2      Annual   \n",
       "NMBR-PRDCT-XPRTD     Harmonized System 1988/92, SITC Revision 2      Annual   \n",
       "NMBR-XPRT-HS6-PRDCT  Harmonized System 1988/92, SITC Revision 2      Annual   \n",
       "NMBR-XPRT-PRTNR      Harmonized System 1988/92, SITC Revision 2      Annual   \n",
       "RCA                  Harmonized System 1988/92, SITC Revision 2      Annual   \n",
       "TRD-CMPLMNTRTY-NDX   Harmonized System 1988/92, SITC Revision 2      Annual   \n",
       "WRLD-GRWTH           Harmonized System 1988/92, SITC Revision 2      Annual   \n",
       "XPRT-PRDCT-SHR       Harmonized System 1988/92, SITC Revision 2      Annual   \n",
       "XPRT-PRTNR-SHR       Harmonized System 1988/92, SITC Revision 2      Annual   \n",
       "XPRT-SHR-TTL-PRDCT   Harmonized System 1988/92, SITC Revision 2      Annual   \n",
       "XPRT-TRD-VL          Harmonized System 1988/92, SITC Revision 2      Annual   \n",
       "\n",
       "                                      valuation                   currency  \\\n",
       "indicatorcode                                                                \n",
       "CNTRY-GRWTH          Export - FOB; Import - CIF                       None   \n",
       "HH-MKT-CNCNTRTN-NDX  Export - FOB; Import - CIF                       None   \n",
       "MPRT-PRDCT-SHR                             None                       None   \n",
       "MPRT-PRTNR-SHR                             None                       None   \n",
       "MPRT-SHR-TTL-PRDCT                         None                       None   \n",
       "MPRT-TRD-VL          Export - FOB; Import - CIF  US Dollar - Current value   \n",
       "NDX-XPRT-MKT-PNRTTN  Export - FOB; Import - CIF                       None   \n",
       "NMBR-MPRT-HS6-PRDCT                        None                       None   \n",
       "NMBR-MPRT-PRTNR                            None                       None   \n",
       "NMBR-PRDCT-MPRTD                           None                       None   \n",
       "NMBR-PRDCT-XPRTD                           None                       None   \n",
       "NMBR-XPRT-HS6-PRDCT                        None                       None   \n",
       "NMBR-XPRT-PRTNR                            None                       None   \n",
       "RCA                  Export - FOB; Import - CIF                       None   \n",
       "TRD-CMPLMNTRTY-NDX   Export - FOB; Import - CIF                       None   \n",
       "WRLD-GRWTH           Export - FOB; Import - CIF                       None   \n",
       "XPRT-PRDCT-SHR                             None                       None   \n",
       "XPRT-PRTNR-SHR                             None                       None   \n",
       "XPRT-SHR-TTL-PRDCT                         None                       None   \n",
       "XPRT-TRD-VL          Export - FOB; Import - CIF  US Dollar - Current value   \n",
       "\n",
       "                                                                 notes  \n",
       "indicatorcode                                                           \n",
       "CNTRY-GRWTH          1) Mirror Exports is considered 2)Growth for a...  \n",
       "HH-MKT-CNCNTRTN-NDX  1) Mirror Exports is considered for export dat...  \n",
       "MPRT-PRDCT-SHR                                                          \n",
       "MPRT-PRTNR-SHR                                                          \n",
       "MPRT-SHR-TTL-PRDCT   1)  All traded products at HS 6 digits are con...  \n",
       "MPRT-TRD-VL                                                             \n",
       "NDX-XPRT-MKT-PNRTTN  1) Mirror Exports is considered for export dat...  \n",
       "NMBR-MPRT-HS6-PRDCT  1)  All traded products at HS 6 digits are con...  \n",
       "NMBR-MPRT-PRTNR       1) Product 'Total' is used for this computation.  \n",
       "NMBR-PRDCT-MPRTD     1)  All traded products at HS 6 digits are con...  \n",
       "NMBR-PRDCT-XPRTD     1)  All traded products at HS 6 digits are con...  \n",
       "NMBR-XPRT-HS6-PRDCT  1)  All traded products at HS 6 digits are con...  \n",
       "NMBR-XPRT-PRTNR       1) Product 'Total' is used for this computation.  \n",
       "RCA                  Mirror Exports is considered.  The RCA index o...  \n",
       "TRD-CMPLMNTRTY-NDX   1) Mirror Exports is considered for export dat...  \n",
       "WRLD-GRWTH           1) Mirror Exports is considered 2)Growth for a...  \n",
       "XPRT-PRDCT-SHR                                                          \n",
       "XPRT-PRTNR-SHR                                                          \n",
       "XPRT-SHR-TTL-PRDCT   1)  All traded products at HS 6 digits are con...  \n",
       "XPRT-TRD-VL                                                             "
      ]
     },
     "execution_count": 2,
     "metadata": {},
     "output_type": "execute_result"
    }
   ],
   "source": [
    "wits.get_indicators()"
   ]
  },
  {
   "cell_type": "code",
   "execution_count": 4,
   "id": "b77e3158",
   "metadata": {},
   "outputs": [],
   "source": [
    "# create a list of unique product name\n",
    "product_name = wits.get_products()[wits.get_products()[\"grouptype\"]=='Sector'].reset_index()[\"productdescription\"].to_list()\n",
    "product_name.remove('All Products')"
   ]
  },
  {
   "cell_type": "markdown",
   "id": "ce186de9",
   "metadata": {},
   "source": [
    "Build a dataframe by country :"
   ]
  },
  {
   "cell_type": "code",
   "execution_count": null,
   "id": "c2611f7d",
   "metadata": {},
   "outputs": [
    {
     "name": "stdout",
     "output_type": "stream",
     "text": [
      "AFG done\n",
      "ALB done\n",
      "DZA done\n",
      "AND done\n",
      "AGO done\n",
      "ATG done\n",
      "ARG done\n",
      "ARM done\n",
      "AUS done\n",
      "AUT done\n",
      "AZE done\n",
      "BHS done\n",
      "BHR done\n",
      "BGD done\n",
      "BRB done\n",
      "BLR done\n",
      "BEL done\n",
      "BLZ done\n",
      "BEN done\n",
      "BTN done\n",
      "BOL done\n",
      "BIH done\n"
     ]
    }
   ],
   "source": [
    "period = [str(year) for year in range(2006, 2021)] # convert to string because int is not iterable\n",
    "\n",
    "# create a dataframe list which contains the list of dataframe of each france partner\n",
    "dataframes_list = []\n",
    "\n",
    "# list of each partners\n",
    "countries_list = list(wits.get_countries().index)\n",
    "\n",
    "#remove group of countries\n",
    "countries_group = wits.get_countries()[wits.get_countries()['isgroup']==\"Yes\"].index.to_list() #list of group of countries\n",
    "for item in countries_group:\n",
    "    countries_list.remove(item)\n",
    "\n",
    "#remove territories for which data on exports to France are not available (including France itslef), overseas territories, unspecified territory, world data\n",
    "countries_to_drop = [\"ASM\",\"AIA\",\"ATA\",\"ABW\",\"BLX\",\"BMU\",\"BES\",\"BVT\",\"BAT\",\"IOT\",\"VGB\",\"BUN\",\"CYM\",\"CXR\",\"CCK\",\"CUW\",\"CSK\",\"ETF\",\"FLK\",\"ATF\",\"FRE\",\"GUF\",\"PYF\",\"DDR\",\"GLP\",\"GUM\",\"HMD\",\"VAT\",\"MYT\",\"ANT\",\"NZE\",\"NCL\",\"NFK\",\"MNP\",\"999\",\"PSE\",\"OAS\",\"PCE\",\"PLW\",\"PCN\",\"REU\",\"SXM\",\"SPM\",\"SGS\",\"SVU\",\"SPE\",\"TKL\",\"TCA\",\"UMI\",\"UNS\",\"USP\",\"WLF\",\"YUG\"]\n",
    "\n",
    "for item in countries_to_drop:\n",
    "    countries_list.remove(item)\n",
    "    \n",
    "global_list=[]\n",
    "#create a list of dataframe\n",
    "for ctr in countries_list : \n",
    "    dataframes =[] #an empty list of future dataframe\n",
    "    for year in period:\n",
    "        try :\n",
    "            temp = wits.get_indicator('MPRT-TRD-VL', reporter='fra', year=year,partner = ctr)[[\"Value\"]]\n",
    "            temp = temp.reset_index()[[\"Partner\",\"ProductCode\",\"Year\",\"Value\"]]\n",
    "            temp = temp[temp['ProductCode'].isin(product_name)] # to get a single product name\n",
    "            temp.rename(columns={\"Value\":year},inplace=True)\n",
    "            temp = temp[[\"Partner\",\"ProductCode\",year]]\n",
    "            dataframes.append(temp)\n",
    "        \n",
    "        except HTTPError:\n",
    "            # Handle the error by creating an empty DataFrame with NaN values (when a given country has no data in a given time)\n",
    "            temp = pd.DataFrame({'Partner': ctr, 'ProductCode': product_name,year: np.nan*len(product_name)})\n",
    "            dataframes.append(temp)\n",
    "\n",
    "    for df in dataframes[1:]: # drop useless columns and only keep the 'Partner' on the first dataframe\n",
    "        df.drop('Partner', axis=1,inplace=True)\n",
    "\n",
    "    result = dataframes[0]# select the first element of the dataframes list\n",
    "    for df in dataframes[1:]:#then merge all remain dataframes on it\n",
    "        result = result.merge(df, on='ProductCode', how='outer')#get an only one dataframe for a country which export to France\n",
    "        result[\"Partner\"] = result[\"Partner\"].fillna(method='ffill')\n",
    "        result = result.replace(np.nan,0)\n",
    "\n",
    "    global_list.append(result)\n",
    "    print(ctr,\"done\")"
   ]
  },
  {
   "cell_type": "markdown",
   "id": "71aab828",
   "metadata": {},
   "source": [
    "Let's create a dataframe that contains the shares of exports by product by country to France."
   ]
  },
  {
   "cell_type": "markdown",
   "id": "1aff0eb1",
   "metadata": {},
   "source": [
    "The dataframe is computed with this formula for each country :"
   ]
  },
  {
   "cell_type": "markdown",
   "id": "e21ecf7e",
   "metadata": {
    "scrolled": true
   },
   "source": [
    "$$\\frac{\\sum_{j} x_{i,j,k}}{\\sum_{j} \\sum_{i} x_{i,j,k}}$$\n",
    "\n",
    "When: \n",
    "* i : the product ,\n",
    "* j : the year,\n",
    "* k : the country."
   ]
  },
  {
   "cell_type": "markdown",
   "id": "d7c6344f",
   "metadata": {},
   "source": [
    "We have to deflate the values :"
   ]
  },
  {
   "cell_type": "code",
   "execution_count": null,
   "id": "4bc6b9cb",
   "metadata": {},
   "outputs": [],
   "source": [
    "global_list"
   ]
  },
  {
   "cell_type": "code",
   "execution_count": null,
   "id": "54b86094",
   "metadata": {
    "scrolled": true
   },
   "outputs": [],
   "source": [
    "#import the US price index (source : World Bank) \n",
    "price_usa=pd.read_excel(\"D:\\Research\\Publications\\Clustering World-France trade\\Data\\Price index.xlsx\")\n",
    "price_usa = price_usa[46:-1]\n",
    "price_usa[\"Année\"]= price_usa[\"Année\"].astype(str)\n",
    "price_usa = price_usa.T\n",
    "price_usa.columns = price_usa.iloc[0,:]\n",
    "price_usa.drop(\"Année\",axis=0,inplace=True)"
   ]
  },
  {
   "cell_type": "code",
   "execution_count": null,
   "id": "f60c7fde",
   "metadata": {},
   "outputs": [],
   "source": [
    "global_list_2 = []\n",
    "for i in range(0,len (global_list)):\n",
    "    temp = pd.concat([global_list[i], price_usa], axis=0, ignore_index=True)\n",
    "    temp = temp.set_index([\"Partner\",\"ProductCode\"])\n",
    "    temp = (temp*100).div(temp.iloc[-1])\n",
    "    temp.reset_index(inplace=True)\n",
    "    temp.drop(temp.index[-1],inplace=True)\n",
    "    global_list_2.append(temp)"
   ]
  },
  {
   "cell_type": "code",
   "execution_count": null,
   "id": "b011d2da",
   "metadata": {},
   "outputs": [],
   "source": [
    "for i in range(0,len(global_list_2)):\n",
    "    # Supposons que 'df' est votre DataFrame\n",
    "    global_list_2[i].set_index('ProductCode', inplace=True)\n",
    "\n",
    "    # Liste des produits\n",
    "    produits = [\"Animal\", \"Vegetable\", \"Food Products\", \"Chemicals\", \"Plastic or Rubber\", \"Textiles and Clothing\", \"Footwear\", \"Stone and Glass\", \"Metals\", \"Mach and Elec\", \"Transportation\", \"Wood\", \"Hides and Skins\", \"Minerals\"]\n",
    "\n",
    "    # Initialiser les nouvelles lignes à 0\n",
    "    for new_row in ['Agriculture & Food', 'Chemical & Energy',\"Textile and Fashion\",\"Construction and Building Materials\",\"Machinery and Transportation\",\"Forestry & Leather\",\"Mining\"]:\n",
    "        global_list_2[i].loc[new_row] = [0]*len(global_list_2[i].columns)\n",
    "\n",
    "    # Calculer la somme en fonction des produits disponibles\n",
    "    for product in produits:\n",
    "        if product in global_list_2[i].index:\n",
    "            # Convertir les données en numérique\n",
    "            global_list_2[i].loc[product] = pd.to_numeric(global_list_2[i].loc[product], errors='coerce')\n",
    "            if product in [\"Animal\", \"Vegetable\", \"Food Products\"]:\n",
    "                global_list_2[i].loc[\"Agriculture & Food\"] += global_list_2[i].loc[product]\n",
    "            elif product in [\"Chemicals\", \"Plastic or Rubber\"]:\n",
    "                global_list_2[i].loc[\"Chemical & Energy\"] += global_list_2[i].loc[product]\n",
    "            elif product in [\"Textiles and Clothing\", \"Footwear\"]:\n",
    "                global_list_2[i].loc[\"Textile and Fashion\"] += global_list_2[i].loc[product]\n",
    "            elif product in [\"Stone and Glass\", \"Metals\"]:\n",
    "                global_list_2[i].loc[\"Construction and Building Materials\"] += global_list_2[i].loc[product]\n",
    "            elif product in [\"Mach and Elec\", \"Transportation\"]:\n",
    "                global_list_2[i].loc[\"Machinery and Transportation\"] += global_list_2[i].loc[product]\n",
    "            elif product in [\"Wood\", \"Hides and Skins\"]:\n",
    "                global_list_2[i].loc[\"Forestry & Leather\"] += global_list_2[i].loc[product]\n",
    "            elif product == \"Minerals\":\n",
    "                global_list_2[i].loc[\"Mining\"] += global_list_2[i].loc[product]\n",
    "\n",
    "    # Sélectionner seulement les nouvelles lignes\n",
    "    global_list_2[i] = global_list_2[i].loc[['Agriculture & Food', 'Chemical & Energy',\"Textile and Fashion\",\"Construction and Building Materials\",\"Machinery and Transportation\",\"Forestry & Leather\",\"Mining\",\"Miscellaneous\"]]\n",
    "    \n",
    "    # Réinitialiser l'index\n",
    "    global_list_2[i].reset_index(inplace=True)\n",
    "    \n",
    "\n",
    "    #print(global_list_2[i])\n"
   ]
  },
  {
   "cell_type": "code",
   "execution_count": null,
   "id": "040983b9",
   "metadata": {},
   "outputs": [],
   "source": [
    "for i in range(len(global_list_2)):\n",
    "    global_list_2[i]['Partner'] = global_list[i]['Partner']"
   ]
  },
  {
   "cell_type": "code",
   "execution_count": null,
   "id": "2fbd4781",
   "metadata": {},
   "outputs": [],
   "source": [
    "global_list_2"
   ]
  },
  {
   "cell_type": "code",
   "execution_count": null,
   "id": "80d76b96",
   "metadata": {},
   "outputs": [],
   "source": [
    "\n",
    "for i in range(0,len(global_list_2)):\n",
    "    # Supposons que 'df' est votre DataFrame\n",
    "    global_list_2[i].set_index('ProductCode', inplace=True)\n",
    "\n",
    "    # Calculer la somme de 'Chemicals' et 'Hides and Skins'\n",
    "    global_list_2[i].loc[\"Agriculture & Food\"] = global_list_2[i].loc [\"Animal\"] + global_list_2[i].loc[\"Vegetable\"] + global_list_2[i].loc[\"Food Products\"]\n",
    "    global_list_2[i].loc[\"Chemical & Energy\"] = global_list_2[i].loc[\"Chemicals\"] + global_list_2[i].loc[\"Plastic or Rubber\"] #+ global_list_2[i].loc[\"Fuels\"]\n",
    "    global_list_2[i].loc[\"Textile and Fashion\"] = global_list_2[i].loc[\"Textiles and Clothing\"] + global_list_2[i].loc[\"Footwear\"]\n",
    "    global_list_2[i].loc[\"Construction and Building Materials\"] = global_list_2[i].loc[\"Stone and Glass\"] + global_list_2[i].loc[\"Metals\"]\n",
    "    global_list_2[i].loc[\"Machinery and Transportation\"] = global_list_2[i].loc[\"Mach and Elec\"] + global_list_2[i].loc[\"Transportation\"]\n",
    "    global_list_2[i].loc[\"Forestry & Leather\"] = global_list_2[i].loc[\"Wood\"] + global_list_2[i].loc[\"Hides and Skins\"]\n",
    "    global_list_2[i].loc[\"Mining\"] = global_list_2[i].loc[\"Minerals\"]\n",
    "    global_list_2[i] = global_list_2[i].loc[['Agriculture & Food', 'Chemical & Energy',\"Textile and Fashion\",\"Construction and Building Materials\",\"Machinery and Transportation\",\"Forestry & Leather\",\"Mining\",\"Miscellaneous\"]]\n",
    "    \n",
    "# Réinitialiser l'index\n",
    "    global_list_2[i].reset_index(inplace=True)\n",
    "    \n",
    "\n",
    "    print(global_list_2[i])\n",
    "\n",
    "    #global_list_2[i] = global_list_2[i][[\"Agriculture & Food\",\"Chemical & Energy\",\"Textile and Fashion\",\"Construction and Building Materials\",\"Machinery and Transportation\",\"Forestry & Leather\",\"Mining\",\"Miscellaneous\"]]\n"
   ]
  },
  {
   "cell_type": "code",
   "execution_count": null,
   "id": "16c41e5a",
   "metadata": {},
   "outputs": [],
   "source": [
    "global_list_2[0]"
   ]
  },
  {
   "cell_type": "code",
   "execution_count": null,
   "id": "958e3299",
   "metadata": {},
   "outputs": [],
   "source": [
    "#create a list of computed sum\n",
    "df_list = []\n",
    "for i in range (0,len (global_list_2)):\n",
    "    df = pd.DataFrame(global_list_2[i].set_index(\"ProductCode\"))\n",
    "    df = pd.DataFrame(df.iloc[:,1:].median(axis=1))\n",
    "    df.columns = [global_list_2[i][\"Partner\"][0]]\n",
    "    df_list.append(df)\n",
    "# Join all dataframes to get the final dataframe\n",
    "df_final = df_list[0]\n",
    "for df in df_list[1:]:\n",
    "    df_final = df_final.join(df, how='outer')\n",
    "df_final = df_final.replace(np.nan,0)\n",
    "\n",
    "\n",
    "df = df_final.T # transpose the dataframe to have the country as data points and the product category as features"
   ]
  },
  {
   "cell_type": "code",
   "execution_count": null,
   "id": "f3ee1b7b",
   "metadata": {
    "scrolled": true
   },
   "outputs": [],
   "source": [
    "df"
   ]
  },
  {
   "cell_type": "code",
   "execution_count": null,
   "id": "f775e982",
   "metadata": {
    "scrolled": true
   },
   "outputs": [],
   "source": [
    "#IF PROPORTION\n",
    "#create a list of computed proportion\n",
    "df_list = []\n",
    "for i in range (0,len (global_list_2)):\n",
    "    df = pd.DataFrame(global_list_2[i].set_index(\"ProductCode\"))\n",
    "    num = pd.DataFrame(df.iloc[:,1:].sum(axis=1))\n",
    "    den = pd.DataFrame(df.iloc[:,1:].sum(axis=1)).sum(axis=0)\n",
    "    df = num/den    \n",
    "    df.columns = [global_list_2[i][\"Partner\"][0]]\n",
    "    df_list.append(df)\n",
    "    \n",
    "# Join all dataframes to get the final dataframe\n",
    "df_final = df_list[0]\n",
    "for df in df_list[1:]:\n",
    "    df_final = df_final.join(df, how='outer')\n",
    "df_final = df_final.replace(np.nan,0)\n",
    "\n",
    "\n",
    "df = df_final.T # transpose the dataframe to have the country as data points and the product category as features"
   ]
  },
  {
   "cell_type": "code",
   "execution_count": null,
   "id": "7493f760",
   "metadata": {},
   "outputs": [],
   "source": [
    "df_list[0]"
   ]
  },
  {
   "cell_type": "code",
   "execution_count": null,
   "id": "5993dd83",
   "metadata": {
    "scrolled": true
   },
   "outputs": [],
   "source": [
    "df"
   ]
  },
  {
   "cell_type": "code",
   "execution_count": null,
   "id": "f7a261e6",
   "metadata": {},
   "outputs": [],
   "source": [
    "df = df[['Agriculture & Food', 'Chemical & Energy', 'Textile and Fashion',\n",
    "       'Construction and Building Materials', 'Machinery and Transportation',\n",
    "       'Forestry & Leather', 'Mining']]"
   ]
  },
  {
   "cell_type": "code",
   "execution_count": null,
   "id": "1e7e5b72",
   "metadata": {},
   "outputs": [],
   "source": [
    "from sklearn.preprocessing import RobustScaler\n",
    "\n",
    "\n",
    "# Créez un objet RobustScaler\n",
    "scaler = RobustScaler()\n",
    "\n",
    "# Supposons que vous ayez vos données dans une variable X\n",
    "# X est une matrice (n_samples, n_features)\n",
    "scaled_data = scaler.fit_transform(df)\n",
    "\n",
    "# Create a new dataframe from the scaled data\n",
    "df_scaled = pd.DataFrame(scaled_data, columns=df.columns, index=df.index)"
   ]
  },
  {
   "cell_type": "code",
   "execution_count": null,
   "id": "22465760",
   "metadata": {},
   "outputs": [],
   "source": [
    "df_scaled"
   ]
  },
  {
   "cell_type": "code",
   "execution_count": null,
   "id": "4c5c9ee3",
   "metadata": {},
   "outputs": [],
   "source": [
    "df.to_csv(\"D:/df_clustering.csv\")"
   ]
  },
  {
   "cell_type": "markdown",
   "id": "1de6c67a",
   "metadata": {},
   "source": [
    "# III) Data analysis"
   ]
  },
  {
   "cell_type": "markdown",
   "id": "f88b95af",
   "metadata": {},
   "source": [
    "## III.1) Univariate analysis"
   ]
  },
  {
   "cell_type": "markdown",
   "id": "e953e2de",
   "metadata": {},
   "source": [
    "Let's see how are distributed each variables :"
   ]
  },
  {
   "cell_type": "code",
   "execution_count": null,
   "id": "1e17a51f",
   "metadata": {
    "scrolled": false
   },
   "outputs": [],
   "source": [
    "num_cols = len(df.columns)\n",
    "num_rows = num_cols // 2 if num_cols % 2 == 0 else num_cols // 2 + 1\n",
    "\n",
    "plt.figure(figsize=(15, num_rows*5))\n",
    "for i, column in enumerate(df.columns):\n",
    "    plt.subplot(num_rows, 2, i+1)\n",
    "    sns.histplot(df[column].dropna())\n",
    "    plt.title(column)\n",
    "plt.tight_layout() #to avoid overlapping graphics\n",
    "plt.show()"
   ]
  },
  {
   "cell_type": "code",
   "execution_count": null,
   "id": "c8e080a8",
   "metadata": {},
   "outputs": [],
   "source": [
    "df.describe()"
   ]
  },
  {
   "cell_type": "markdown",
   "id": "13db3584",
   "metadata": {},
   "source": [
    "## III.2) Bivariate analysis"
   ]
  },
  {
   "cell_type": "markdown",
   "id": "ae74428e",
   "metadata": {},
   "source": [
    "Let's see the relations between pair features :"
   ]
  },
  {
   "cell_type": "code",
   "execution_count": null,
   "id": "4faca3c4",
   "metadata": {},
   "outputs": [],
   "source": [
    "sns.pairplot(df) # we have also the distribution with this command\n",
    "plt.show()"
   ]
  },
  {
   "cell_type": "markdown",
   "id": "0cb31d83",
   "metadata": {},
   "source": [
    "Compute the correlation :"
   ]
  },
  {
   "cell_type": "code",
   "execution_count": null,
   "id": "375b5516",
   "metadata": {},
   "outputs": [],
   "source": [
    "# Spearman correlation\n",
    "correlation_spearman = df.corr(method='spearman')\n",
    "\n",
    "#show the result\n",
    "correlation_spearman"
   ]
  },
  {
   "cell_type": "markdown",
   "id": "cdfeb66d",
   "metadata": {},
   "source": [
    "## III.3) Multivariate analysis"
   ]
  },
  {
   "cell_type": "markdown",
   "id": "8370b665",
   "metadata": {},
   "source": [
    "PCA (Principal Component Analysis) :"
   ]
  },
  {
   "cell_type": "markdown",
   "id": "567eb756",
   "metadata": {},
   "source": [
    "We don't need to scale data anymore because they are already at the same scale (between 0-100, in %)."
   ]
  },
  {
   "cell_type": "code",
   "execution_count": null,
   "id": "16b8a28a",
   "metadata": {},
   "outputs": [],
   "source": [
    "pca = PCA()\n",
    "df_pca = pca.fit_transform(df_scaled)"
   ]
  },
  {
   "cell_type": "code",
   "execution_count": null,
   "id": "0a5fc168",
   "metadata": {},
   "outputs": [],
   "source": [
    "# Compute the cumulated explained variance by each component\n",
    "explained_variance = pca.explained_variance_\n",
    "\n",
    "cumulative_explained_variance = np.cumsum(explained_variance)\n",
    "\n",
    "# plot\n",
    "plt.figure(figsize=(6, 4))\n",
    "plt.plot(range(1, len(explained_variance) + 1), explained_variance, 'o-', label='Variance explained by each component')\n",
    "plt.plot(range(1, len(explained_variance) + 1), cumulative_explained_variance, 'o-', label='Cumulative explained variance')\n",
    "plt.title('Scree Plot')\n",
    "plt.xlabel('Number of Principal Components')\n",
    "plt.ylabel('Proportion of variance explained')\n",
    "plt.legend()\n",
    "plt.show()"
   ]
  },
  {
   "cell_type": "markdown",
   "id": "2f768241",
   "metadata": {},
   "source": [
    "Create correlation circle :"
   ]
  },
  {
   "cell_type": "code",
   "execution_count": null,
   "id": "62e0ab24",
   "metadata": {},
   "outputs": [],
   "source": [
    "coeff = np.transpose(pca.components_[0:2, :])\n",
    "n = coeff.shape[0]\n",
    "xs = np.array([1, 0])\n",
    "ys = np.array([0, 1])\n",
    "\n",
    "# plot\n",
    "plt.figure(figsize=(10, 10))\n",
    "\n",
    "# Variables vectors\n",
    "for i in range(n):\n",
    "    plt.arrow(0, 0, coeff[i, 0], coeff[i, 1], color='k', alpha=0.9, head_width=0.02)\n",
    "    plt.text(coeff[i, 0] * 1.15, coeff[i, 1] * 1.15, df.columns[i], color='k', ha='center', va='center')\n",
    "\n",
    "# Unit circle\n",
    "circle = plt.Circle((0, 0), 1, color='gray', fill=False, linestyle='--')\n",
    "plt.gca().add_artist(circle)\n",
    "\n",
    "# Adjustment\n",
    "plt.xlim(-1, 1)\n",
    "plt.ylim(-1, 1)\n",
    "plt.axhline(0, color='gray', linewidth=1)\n",
    "plt.axvline(0, color='gray', linewidth=1)\n",
    "plt.xlabel('PC1')\n",
    "plt.ylabel('PC2')\n",
    "plt.title('Cercle de corrélation ACP ')\n",
    "\n",
    "\n",
    "plt.show()"
   ]
  },
  {
   "cell_type": "markdown",
   "id": "14ba42d4",
   "metadata": {},
   "source": [
    "Bidimensional factorial plane :"
   ]
  },
  {
   "cell_type": "code",
   "execution_count": null,
   "id": "261fc19f",
   "metadata": {
    "scrolled": false
   },
   "outputs": [],
   "source": [
    "# First plan\n",
    "fig, ax = plt.subplots(figsize=(8, 8))\n",
    "ax.scatter(df_pca[:, 0], df_pca[:, 1], alpha=0.5)\n",
    "\n",
    "# country label\n",
    "for i, status_type in enumerate(df.index):\n",
    "    ax.annotate(status_type, (df_pca[i, 0], df_pca[i, 1]), alpha=0.7)\n",
    "\n",
    "# Add axis\n",
    "ax.axhline(0, color='black', linewidth=0.5)\n",
    "ax.axvline(0, color='black', linewidth=0.5)\n",
    "\n",
    "# Axis labels\n",
    "ax.set_xlabel('First factorial axis')\n",
    "ax.set_ylabel('Second factorial axis')\n",
    "\n",
    "# Title\n",
    "plt.title('First factorial axis')\n",
    "\n",
    "plt.show()"
   ]
  },
  {
   "cell_type": "markdown",
   "id": "0aac3cb8",
   "metadata": {},
   "source": [
    "# IV) Clustering"
   ]
  },
  {
   "cell_type": "code",
   "execution_count": null,
   "id": "c03ac786",
   "metadata": {},
   "outputs": [],
   "source": [
    "df_kmeans = df.copy()\n",
    "df_dbscan = df.copy()"
   ]
  },
  {
   "cell_type": "code",
   "execution_count": null,
   "id": "49142ebf",
   "metadata": {},
   "outputs": [],
   "source": [
    "df_scaled = df.copy()"
   ]
  },
  {
   "cell_type": "code",
   "execution_count": null,
   "id": "8a853078",
   "metadata": {},
   "outputs": [],
   "source": [
    "df_scaled"
   ]
  },
  {
   "cell_type": "markdown",
   "id": "de557381",
   "metadata": {},
   "source": [
    "## IV.1) K-means"
   ]
  },
  {
   "cell_type": "markdown",
   "id": "fd651e15",
   "metadata": {},
   "source": [
    "### Determination of the optimal number of cluster (k)"
   ]
  },
  {
   "cell_type": "markdown",
   "id": "af6615f7",
   "metadata": {},
   "source": [
    "#### Elbow method"
   ]
  },
  {
   "cell_type": "code",
   "execution_count": null,
   "id": "02e8d102",
   "metadata": {},
   "outputs": [],
   "source": [
    "inertias = []\n",
    "silhouettes = []\n",
    "K_choice = range (2,10)\n",
    "for k in K_choice:\n",
    "    clusterer = KMeans(n_clusters=k, random_state=42)\n",
    "    clusterer.fit(df_scaled)\n",
    "    inertias.append(clusterer.inertia_)\n",
    "    silhouettes.append(silhouette_score(df_scaled, clusterer.labels_))"
   ]
  },
  {
   "cell_type": "code",
   "execution_count": null,
   "id": "e668bc6c",
   "metadata": {},
   "outputs": [],
   "source": [
    "#plot inertias cuve\n",
    "plt.plot(K_choice, inertias)\n",
    "plt.xlabel('Number of clusters')\n",
    "plt.ylabel('Inertias')\n",
    "plt.title('Elbow method')\n",
    "plt.show()"
   ]
  },
  {
   "cell_type": "code",
   "execution_count": null,
   "id": "1badebb0",
   "metadata": {
    "scrolled": false
   },
   "outputs": [],
   "source": [
    "# Plot silhouette\n",
    "plt.figure(figsize=(10,4))\n",
    "plt.plot(K_choice, silhouettes, 'bx-')\n",
    "plt.xlabel('k')\n",
    "plt.ylabel('Silhouette score')\n",
    "plt.title('Silhouette score with the optimal score')\n",
    "plt.show()"
   ]
  },
  {
   "cell_type": "markdown",
   "id": "090f6404",
   "metadata": {},
   "source": [
    "k= 4"
   ]
  },
  {
   "cell_type": "markdown",
   "id": "faba55e7",
   "metadata": {},
   "source": [
    "### Clustering with the k optimal"
   ]
  },
  {
   "cell_type": "markdown",
   "id": "939c87ec",
   "metadata": {},
   "source": [
    "Fit the model  :"
   ]
  },
  {
   "cell_type": "code",
   "execution_count": null,
   "id": "542c1f9b",
   "metadata": {},
   "outputs": [],
   "source": [
    "# Applied the k-means with the k optimal\n",
    "kmeans = KMeans(n_clusters=5, random_state=42)\n",
    "kmeans.fit(df_scaled)"
   ]
  },
  {
   "cell_type": "markdown",
   "id": "f563a9d3",
   "metadata": {},
   "source": [
    "Add cluster to each country :"
   ]
  },
  {
   "cell_type": "code",
   "execution_count": null,
   "id": "9b2fe950",
   "metadata": {},
   "outputs": [],
   "source": [
    "df_kmeans['cluster_label'] = kmeans.labels_\n",
    "df_kmeans"
   ]
  },
  {
   "cell_type": "markdown",
   "id": "412808f1",
   "metadata": {},
   "source": [
    "### Interpret the group"
   ]
  },
  {
   "cell_type": "markdown",
   "id": "b4a08444",
   "metadata": {},
   "source": [
    "The statistics of each cluster :"
   ]
  },
  {
   "cell_type": "code",
   "execution_count": null,
   "id": "4e1437b2",
   "metadata": {},
   "outputs": [],
   "source": [
    "cluster_stats = df_kmeans.groupby('cluster_label')[df_kmeans.columns].mean()\n",
    "cluster_stats"
   ]
  },
  {
   "cell_type": "markdown",
   "id": "514cf4bd",
   "metadata": {},
   "source": [
    "Boxplot :"
   ]
  },
  {
   "cell_type": "code",
   "execution_count": null,
   "id": "bd9a0d4e",
   "metadata": {},
   "outputs": [],
   "source": [
    "num_cols = len(cluster_stats.columns) # -1 pour exclure 'status_type'\n",
    "\n",
    "# Nombre de lignes pour les sous-graphiques\n",
    "num_rows = num_cols // 2\n",
    "if num_cols % 2:\n",
    "    num_rows += 1\n",
    "\n",
    "plt.figure(figsize=(10, 4 * num_rows))\n",
    "for i, column in enumerate(cluster_stats.columns, start=1):\n",
    "    plt.subplot(num_rows, 2, i)\n",
    "    sns.boxplot(x='cluster_label', y=column, data=cluster_stats)\n",
    "    plt.title(column)\n",
    "\n",
    "plt.tight_layout()\n",
    "plt.show()"
   ]
  },
  {
   "cell_type": "code",
   "execution_count": null,
   "id": "d2b6cf52",
   "metadata": {},
   "outputs": [],
   "source": [
    "# Visualisation des groupes\n",
    "sns.scatterplot(data=df_kmeans, x='Agriculture & Food', y='Chemical & Energy', hue='cluster_label', palette='Set1')\n",
    "plt.title(\"Clusters K-means\")\n",
    "plt.show()"
   ]
  },
  {
   "cell_type": "code",
   "execution_count": null,
   "id": "2205b490",
   "metadata": {},
   "outputs": [],
   "source": [
    "# en nombre\n",
    "df_kmeans[\"cluster_label\"].value_counts()"
   ]
  },
  {
   "cell_type": "markdown",
   "id": "8bdb3e34",
   "metadata": {},
   "source": [
    "Cette interprétation est basée sur les proportions d'exportation, qui indiquent les domaines dans lesquels chaque groupe de pays est particulièrement actif en termes d'exportations vers la France."
   ]
  },
  {
   "cell_type": "code",
   "execution_count": null,
   "id": "e33c8f19",
   "metadata": {},
   "outputs": [],
   "source": []
  },
  {
   "cell_type": "code",
   "execution_count": null,
   "id": "e55f1ad3",
   "metadata": {},
   "outputs": [],
   "source": []
  },
  {
   "cell_type": "code",
   "execution_count": null,
   "id": "0bd69199",
   "metadata": {},
   "outputs": [],
   "source": []
  },
  {
   "cell_type": "code",
   "execution_count": null,
   "id": "03499a74",
   "metadata": {},
   "outputs": [],
   "source": []
  },
  {
   "cell_type": "code",
   "execution_count": null,
   "id": "cd61af50",
   "metadata": {},
   "outputs": [],
   "source": []
  },
  {
   "cell_type": "code",
   "execution_count": null,
   "id": "52738f9d",
   "metadata": {},
   "outputs": [],
   "source": []
  }
 ],
 "metadata": {
  "kernelspec": {
   "display_name": "Python 3 (ipykernel)",
   "language": "python",
   "name": "python3"
  },
  "language_info": {
   "codemirror_mode": {
    "name": "ipython",
    "version": 3
   },
   "file_extension": ".py",
   "mimetype": "text/x-python",
   "name": "python",
   "nbconvert_exporter": "python",
   "pygments_lexer": "ipython3",
   "version": "3.11.4"
  }
 },
 "nbformat": 4,
 "nbformat_minor": 5
}
